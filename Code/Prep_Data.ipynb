{
 "cells": [
  {
   "cell_type": "code",
   "execution_count": 1,
   "id": "957fdfbe",
   "metadata": {},
   "outputs": [],
   "source": [
    "import librosa as lr\n",
    "import soundfile as sf\n",
    "import numpy as np"
   ]
  },
  {
   "cell_type": "code",
   "execution_count": 5,
   "id": "93f61e42",
   "metadata": {},
   "outputs": [
    {
     "name": "stdout",
     "output_type": "stream",
     "text": [
      "[-0.0007706  -0.00120007 -0.00131015 ...  0.          0.\n",
      "  0.        ]\n",
      "20289\n",
      "<class 'int'>\n",
      "[0.00028838 0.00045104 0.00054092 ... 0.         0.         0.        ]\n",
      "20289\n",
      "[-0.00041952 -0.00043228 -0.00037525 ...  0.          0.\n",
      "  0.        ]\n",
      "20289\n",
      "[-0.00018199 -0.00021857 -0.00027347 ...  0.          0.\n",
      "  0.        ]\n",
      "20289\n",
      "[-0.00016132  0.00033745  0.00078184 ...  0.          0.\n",
      "  0.        ]\n",
      "20289\n",
      "[-0.00043171 -0.00043358 -0.00030683 ...  0.          0.\n",
      "  0.        ]\n",
      "20289\n",
      "[0.0004146  0.00068615 0.00085653 ... 0.         0.         0.        ]\n",
      "20289\n",
      "[0.00014547 0.00023135 0.00025404 ... 0.         0.         0.        ]\n",
      "20289\n",
      "[ 4.6223529e-05 -6.1295170e-05 -1.3547626e-04 ...  5.5432087e-04\n",
      "  4.5216206e-04  0.0000000e+00]\n",
      "20289\n",
      "[-3.63418018e-04 -2.37132030e-04 -4.93257648e-05 ...  0.00000000e+00\n",
      "  0.00000000e+00  0.00000000e+00]\n",
      "20289\n"
     ]
    }
   ],
   "source": [
    "spoken_digits_dir = './data/spoken_digits/'\n",
    "\n",
    "spoken_digits_raw = []\n",
    "_, sr = lr.load(spoken_digits_dir+str(0)+'.wav')\n",
    "max_len = 0\n",
    "for i in range(10):\n",
    "    wave, sr = lr.load(spoken_digits_dir+str(i)+'.wav')\n",
    "    if len(wave) > max_len:\n",
    "        max_len = len(wave)\n",
    "    spoken_digits_raw.append(wave)\n",
    "\n",
    "for i,digit_wave in enumerate(spoken_digits_raw):\n",
    "    len_dif = max_len-len(digit_wave)\n",
    "    #print(type(digit_wave))\n",
    "    spoken_digits_raw[i] = np.array(list(digit_wave) + ([0]*len_dif))\n",
    "    print(spoken_digits_raw[i])\n",
    "    print(len(spoken_digits_raw[i]))\n",
    "    # since 0 is the end of sequence symbol, it should not be any sound\n",
    "    if i == 0:\n",
    "        print(type(max_len))\n",
    "        sf.write(spoken_digits_dir+'same_length/'+str(i)+'.wav', np.array([0]*int(max_len), dtype= np.int32), sr)\n",
    "    else:\n",
    "        sf.write(spoken_digits_dir+'same_length/'+str(i)+'.wav', spoken_digits_raw[i], sr)"
   ]
  }
 ],
 "metadata": {
  "kernelspec": {
   "display_name": "Python 3 (ipykernel)",
   "language": "python",
   "name": "python3"
  },
  "language_info": {
   "codemirror_mode": {
    "name": "ipython",
    "version": 3
   },
   "file_extension": ".py",
   "mimetype": "text/x-python",
   "name": "python",
   "nbconvert_exporter": "python",
   "pygments_lexer": "ipython3",
   "version": "3.10.6"
  }
 },
 "nbformat": 4,
 "nbformat_minor": 5
}
